{
 "cells": [
  {
   "cell_type": "code",
   "execution_count": 1,
   "metadata": {},
   "outputs": [],
   "source": [
    "import pandas as pd"
   ]
  },
  {
   "cell_type": "code",
   "execution_count": 111,
   "metadata": {},
   "outputs": [],
   "source": [
    "labels = pd.read_excel('../data/data_limagrain_2024/20240214-BNAZUQC51776-RESULTS-PROD_génotypage.xlsx')"
   ]
  },
  {
   "cell_type": "code",
   "execution_count": 112,
   "metadata": {},
   "outputs": [
    {
     "data": {
      "text/html": [
       "<div>\n",
       "<style scoped>\n",
       "    .dataframe tbody tr th:only-of-type {\n",
       "        vertical-align: middle;\n",
       "    }\n",
       "\n",
       "    .dataframe tbody tr th {\n",
       "        vertical-align: top;\n",
       "    }\n",
       "\n",
       "    .dataframe thead th {\n",
       "        text-align: right;\n",
       "    }\n",
       "</style>\n",
       "<table border=\"1\" class=\"dataframe\">\n",
       "  <thead>\n",
       "    <tr style=\"text-align: right;\">\n",
       "      <th></th>\n",
       "      <th>Master plate</th>\n",
       "      <th>XY</th>\n",
       "      <th>Breeder's code</th>\n",
       "      <th>Lot Code</th>\n",
       "      <th>CYTOPLASME</th>\n",
       "      <th>RF</th>\n",
       "      <th>Fertilité</th>\n",
       "    </tr>\n",
       "  </thead>\n",
       "  <tbody>\n",
       "    <tr>\n",
       "      <th>0</th>\n",
       "      <td>BN51776-001</td>\n",
       "      <td>A03</td>\n",
       "      <td>20230927</td>\n",
       "      <td>OSRSterility-1-F</td>\n",
       "      <td>Stérile</td>\n",
       "      <td>Restorer Hétérozygote</td>\n",
       "      <td>+</td>\n",
       "    </tr>\n",
       "    <tr>\n",
       "      <th>1</th>\n",
       "      <td>BN51776-001</td>\n",
       "      <td>A04</td>\n",
       "      <td>20230927</td>\n",
       "      <td>OSRSterility-1-F</td>\n",
       "      <td>Stérile</td>\n",
       "      <td>Restorer Hétérozygote</td>\n",
       "      <td>+</td>\n",
       "    </tr>\n",
       "    <tr>\n",
       "      <th>2</th>\n",
       "      <td>BN51776-001</td>\n",
       "      <td>A05</td>\n",
       "      <td>20230927</td>\n",
       "      <td>OSRSterility-1-F</td>\n",
       "      <td>Stérile</td>\n",
       "      <td>Restorer Hétérozygote</td>\n",
       "      <td>+</td>\n",
       "    </tr>\n",
       "    <tr>\n",
       "      <th>3</th>\n",
       "      <td>BN51776-001</td>\n",
       "      <td>A06</td>\n",
       "      <td>20230927</td>\n",
       "      <td>OSRSterility-1-F</td>\n",
       "      <td>Stérile</td>\n",
       "      <td>Restorer Hétérozygote</td>\n",
       "      <td>+</td>\n",
       "    </tr>\n",
       "    <tr>\n",
       "      <th>4</th>\n",
       "      <td>BN51776-001</td>\n",
       "      <td>A07</td>\n",
       "      <td>20230927</td>\n",
       "      <td>OSRSterility-1-F</td>\n",
       "      <td>Stérile</td>\n",
       "      <td>Restorer Hétérozygote</td>\n",
       "      <td>+</td>\n",
       "    </tr>\n",
       "  </tbody>\n",
       "</table>\n",
       "</div>"
      ],
      "text/plain": [
       "  Master plate   XY Breeder's code          Lot Code CYTOPLASME  \\\n",
       "0  BN51776-001  A03       20230927  OSRSterility-1-F    Stérile   \n",
       "1  BN51776-001  A04       20230927  OSRSterility-1-F    Stérile   \n",
       "2  BN51776-001  A05       20230927  OSRSterility-1-F    Stérile   \n",
       "3  BN51776-001  A06       20230927  OSRSterility-1-F    Stérile   \n",
       "4  BN51776-001  A07       20230927  OSRSterility-1-F    Stérile   \n",
       "\n",
       "                      RF Fertilité  \n",
       "0  Restorer Hétérozygote         +  \n",
       "1  Restorer Hétérozygote         +  \n",
       "2  Restorer Hétérozygote         +  \n",
       "3  Restorer Hétérozygote         +  \n",
       "4  Restorer Hétérozygote         +  "
      ]
     },
     "execution_count": 112,
     "metadata": {},
     "output_type": "execute_result"
    }
   ],
   "source": [
    "labels.head()"
   ]
  },
  {
   "cell_type": "code",
   "execution_count": 113,
   "metadata": {
    "scrolled": true
   },
   "outputs": [],
   "source": [
    "mask_plus = (labels['CYTOPLASME']=='Fertile') | \\\n",
    "((labels['RF']=='Restorer Hétérozygote') | (labels['RF']=='Restorer homozygote'))\n",
    "mask_minus = (labels['CYTOPLASME']=='Stérile') & (labels['RF']=='Non restorer')\n",
    "mask_empty = ~mask_plus & ~mask_minus"
   ]
  },
  {
   "cell_type": "code",
   "execution_count": 114,
   "metadata": {},
   "outputs": [],
   "source": [
    "labels['Fertilité'].where(mask_minus | mask_empty, other='1', inplace=True)\n",
    "labels['Fertilité'].where(mask_plus | mask_empty, other='0', inplace=True)\n",
    "labels['Fertilité'].where(mask_minus | mask_plus, other=pd.NA, inplace=True)"
   ]
  },
  {
   "cell_type": "code",
   "execution_count": 115,
   "metadata": {},
   "outputs": [],
   "source": [
    "labels['Lot Code'][labels['Lot Code']=='OSRSterility-1-F'] = 1\n",
    "labels['Lot Code'][labels['Lot Code']=='OSRSterility-2-G'] = 2\n",
    "labels['Lot Code'][labels['Lot Code']=='OSRSterility-3-FF'] = 3\n",
    "labels['Lot Code'][labels['Lot Code']=='OSRSterility-4-FM'] = 4\n",
    "labels['Lot'] = labels['Lot Code']"
   ]
  },
  {
   "cell_type": "code",
   "execution_count": 116,
   "metadata": {},
   "outputs": [],
   "source": [
    "labels['Master plate'] = labels['Master plate'].str.replace('BN51776-0', '').astype(int)\n",
    "labels['Master plate'] = labels['Master plate'] - 20 * (labels['Lot Code']-1)\n",
    "labels['Master plate'] = labels['Master plate'].astype('str')\n",
    "labels['Master plate'].where(labels['Master plate'].astype('int64')>=10, other='0'+labels['Master plate'], inplace=True)"
   ]
  },
  {
   "cell_type": "code",
   "execution_count": 117,
   "metadata": {},
   "outputs": [],
   "source": [
    "labels['ID'] = 'T' + labels['Master plate'] + labels['XY']"
   ]
  },
  {
   "cell_type": "code",
   "execution_count": 118,
   "metadata": {},
   "outputs": [],
   "source": [
    "labels[['ID', 'Lot', 'CYTOPLASME', 'RF', 'Fertilité']].to_excel('../data/data_limagrain_2024/génotypage_correct.xlsx', index=False)"
   ]
  },
  {
   "cell_type": "code",
   "execution_count": 119,
   "metadata": {},
   "outputs": [
    {
     "data": {
      "text/plain": [
       "0       T01A03\n",
       "1       T01A04\n",
       "2       T01A05\n",
       "3       T01A06\n",
       "4       T01A07\n",
       "         ...  \n",
       "7435    T20H07\n",
       "7436    T20H09\n",
       "7437    T20H10\n",
       "7438    T20H11\n",
       "7439    T20H12\n",
       "Name: ID, Length: 7440, dtype: object"
      ]
     },
     "execution_count": 119,
     "metadata": {},
     "output_type": "execute_result"
    }
   ],
   "source": [
    "labels['ID']"
   ]
  },
  {
   "cell_type": "code",
   "execution_count": null,
   "metadata": {},
   "outputs": [],
   "source": []
  },
  {
   "cell_type": "code",
   "execution_count": null,
   "metadata": {},
   "outputs": [],
   "source": []
  }
 ],
 "metadata": {
  "kernelspec": {
   "display_name": "Python 3 (ipykernel)",
   "language": "python",
   "name": "python3"
  },
  "language_info": {
   "codemirror_mode": {
    "name": "ipython",
    "version": 3
   },
   "file_extension": ".py",
   "mimetype": "text/x-python",
   "name": "python",
   "nbconvert_exporter": "python",
   "pygments_lexer": "ipython3",
   "version": "3.10.13"
  }
 },
 "nbformat": 4,
 "nbformat_minor": 4
}
