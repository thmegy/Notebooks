{
 "cells": [
  {
   "cell_type": "markdown",
   "metadata": {},
   "source": [
    "\n",
    "# Méthodes non paramétriques\n",
    "\n",
    "\n",
    "L'objectif de cet exercice est de mettre en pratique les notions d'estimation de densité de probabilité et de classification utilisant des modèles non paramétriques.\n",
    "\n",
    "Soit ${\\bf x}_0$ un vecteur de caractéristiques et ${\\cal D}({\\bf x}_0)$ un domaine comprenant ce vecteur ${\\bf x}_0$, nous voulons construire un estimateur $\\hat{P}({\\bf x}_0|c)$ :\n",
    "$$\n",
    "\\hat{P}({\\bf x}_0|c) \\approx \\cfrac{\\frac{k}{n}}{V({\\cal D}({\\bf x}_0))}\n",
    "$$\n",
    "$k$ est le nombre d'échantillons qui appartiennent au domaine ${\\cal D}$ et $n$ est le nombre total d'échantillons.\n",
    "Comme nous l'avons vu en classe, il existe deux principales catégories d'approches de modélisation non paramétriques :\n",
    "+  lier $V({\\cal D}_n({\\bf x}_0))$ à n : il s'agit des modèles basés sur des noyaux (Kernel Density Estimation également appelés fenêtres de Parzen)\n",
    "+ lier $k_n$ en fonction de $n$ et ajuster le domaine  $V({\\cal D}_n({\\bf x}_0))$ de manière à ce que $k$ échantillons appartiennent à ${\\cal D}_n({\\bf x}_0)$ : c'est la méthode des $k$ plus proches voisins (KNN)\n",
    "\n",
    "\n",
    "\n",
    "# 1. Estimation de densité de probabilité par noyau\n",
    "\n",
    "\n",
    "## 1.a)  Estimation de vraisemblance par KDE\n",
    "\n",
    "\n",
    "Nous allons ici estimer la fonction de densité de probabilité associée aux 2 classes de fleurs utilisées lors de la première session, en utilisant la méthode KDE. \n",
    "L'estimateur de densité par noyau (KDE) est défini par :\n",
    "\n",
    "$$\n",
    "\\hat{P}_n({\\bf x}_0|c)=\\cfrac{1}{n}\n",
    "\\sum_{i=1}^n \\cfrac{1}{V({\\cal D}_n({\\bf x}_0))}\\  \\varphi\\left( \n",
    "\\cfrac{{\\bf x}_0 - {\\bf x}_i}{h_n}\\right)\n",
    "$$\n",
    "La fonction $\\varphi$ est le **noyau de l'estimateur**.\n",
    "\n",
    "Nous allons récupérer les caractéristiques comme dans l'exercice précédent et utiliser la méthode KDE pour estimer les fonctions de densité de probabilité."
   ]
  },
  {
   "cell_type": "code",
   "execution_count": null,
   "metadata": {},
   "outputs": [],
   "source": [
    "#import des bibliothèques python nécessaires :\n",
    "import numpy as np\n",
    "\n",
    "#plot\n",
    "import matplotlib.pyplot as plt\n",
    "from matplotlib.colors import ListedColormap\n",
    "# Pour avoir un plot 3D interactif\n",
    "%matplotlib widget\n",
    "from mpl_toolkits.mplot3d import Axes3D\n",
    "\n",
    "# Gaussienne et KDD\n",
    "from scipy.stats import multivariate_normal\n",
    "from sklearn.neighbors import KernelDensity\n",
    "\n",
    "# pour manipuler les accès aux répertoires\n",
    "import os\n",
    "\n",
    "# Pour le traitement d'images et la vision par ordinateur\n",
    "import cv2"
   ]
  },
  {
   "cell_type": "code",
   "execution_count": null,
   "metadata": {},
   "outputs": [],
   "source": [
    "# Choix du dataset\n",
    "training_images_path ='images/dataset1/app/'\n",
    "testing_images_path ='images/dataset1/test/'"
   ]
  },
  {
   "cell_type": "code",
   "execution_count": null,
   "metadata": {},
   "outputs": [],
   "source": [
    "# Fonction d'extraction de caractéristiques d'une image\n",
    "def getfeature(filename):\n",
    "    im = cv2.imread(filename)\n",
    "    imrgb = cv2.cvtColor(im, cv2.COLOR_BGR2RGB)\n",
    "    R = imrgb[:,:,0]\n",
    "    G = imrgb[:,:,1]\n",
    "    B = imrgb[:,:,2]    \n",
    "    In= R+G+B # Calcul de l'intensité des pixels\n",
    "    mIn = np.max((In.flatten())) # Calcul de l'intensité maximale\n",
    "    # normalisation\n",
    "    Rn = R/mIn\n",
    "    Gn = G/mIn\n",
    "    Bn = B/mIn    \n",
    "    # Calcul de la moyenne de chaque composante\n",
    "    X = [np.mean(Rn.flatten()),np.mean(Gn.flatten()),np.mean(Bn.flatten())]    \n",
    "    return X\n",
    "\n",
    "# Fonction d'extraction de caractéristiques pour toutes les images d'un répertoire de la classe cl\n",
    "def getfeatures (path, cl):\n",
    "    X = []\n",
    "    scl = 'c'+str(cl)\n",
    "    for i in os.listdir(path):\n",
    "        #print(\"processing file \",i)\n",
    "        if os.path.isfile(os.path.join(path,i)) and scl in i:\n",
    "            X.append(getfeature(path+i))\n",
    "    print(\"Calcul des caractéristiques de la classe\", cl, \"terminé\")\n",
    "    return np.asarray(X)"
   ]
  },
  {
   "cell_type": "markdown",
   "metadata": {},
   "source": [
    "### A Faire :\n",
    "\n",
    "+ Compléter ici le calcul des caractéristiques (comme dans l'exercice précédent)\n",
    "+ le modèle KDE implémenté dans la bibliothèque python `sklearn` par la fonction:`sklearn.neighbors.KernelDensity` Complétez le code qui applique la méthode KDE et affiche la densité. Les options `kernel='gaussian'` et `bandwidth=0.5` seront utilisées dans un premier temps.\n",
    "+ L'option \"kernel\" définit le noyau à utiliser. Les noyaux possibles sont ['gaussian'|'tophat'|'epanechnikov'|'exponential'|'linear'|'cosine']. La valeur par défaut est le noyau Gaussien. Sélectionnez au moins 3 noyaux, donnez leur expression et comparez les.\n",
    "+ L'option \"bandwidth\" détermine la \"bande passante\" du noyau. Essayez plusieurs valeurs entre $0.01$ et $5$ et concluez sur l'influence de ce paramètre.\n",
    "    "
   ]
  },
  {
   "cell_type": "code",
   "execution_count": null,
   "metadata": {},
   "outputs": [],
   "source": [
    "# A COMPLETER\n",
    "# Calcul des caractéristiques pour les images de la base d'entrainement :\n",
    "X1 = \n",
    "X2 = \n",
    "\n",
    "# Calcul des caractéristiques pour les images de la base de test :\n",
    "Xtest1 = \n",
    "Xtest2 =\n",
    "\n",
    "# Affichage\n",
    "plt.figure()\n",
    "plt.plot(X1[:,0],X1[:,1],'+',label='Classe 1')\n",
    "plt.plot(X2[:,0],X2[:,1],'o',label = 'Classe 2')\n",
    "plt.legend()\n",
    "plt.title('Dataset d\\'entrainement dans l\\'espace de caractéristiques')\n",
    "plt.show()"
   ]
  },
  {
   "cell_type": "code",
   "execution_count": null,
   "metadata": {},
   "outputs": [],
   "source": [
    "# COMPLETER\n",
    "print(X1.shape)\n",
    "kde1 = \n",
    "kde2 = "
   ]
  },
  {
   "cell_type": "code",
   "execution_count": null,
   "metadata": {},
   "outputs": [],
   "source": [
    "# plot KDE estimation \n",
    "def plotKDE(kde, Xdata, x_min=-1, x_max=1, y_min=-1, y_max=1, res=300, title = 'KDE distribution'):\n",
    "    #Create grid and multivariate KDE estimation\n",
    "    x = np.linspace(x_min,x_max,res)\n",
    "    y = np.linspace(y_min,y_max,res)\n",
    "    X, Y = np.meshgrid(x,y)\n",
    "    pos = np.empty(X.shape + (2,))\n",
    "    pos[:, :, 0] = X; pos[:, :, 1] = Y\n",
    "    \n",
    "    # Distribution de probabilités\n",
    "    log_dens = kde.score_samples(np.transpose(np.array([X.flatten(),Y.flatten()])))\n",
    "    log_dens = log_dens.reshape(X.shape[0],X.shape[1])\n",
    "    \n",
    "    # Affichage 3D \n",
    "    fig, ax = plt.subplots(subplot_kw={\"projection\": \"3d\"})\n",
    "    ax.plot_surface(X, Y, np.exp(log_dens),cmap='viridis',linewidth=0)\n",
    "    ax.scatter(Xdata[:,0],Xdata[:,1])\n",
    "    ax.set_xlabel('X axis')\n",
    "    ax.set_ylabel('Y axis')\n",
    "    ax.set_zlabel('Z axis')\n",
    "    ax.set_title(title)"
   ]
  },
  {
   "cell_type": "code",
   "execution_count": null,
   "metadata": {},
   "outputs": [],
   "source": [
    "# display\n",
    "#plt.figure()\n",
    "plotKDE(kde1, X1,x_min=0,x_max=1, y_min=0, y_max=1, title='KDE pdf pour la classe 1')\n",
    "#plt.plot\n",
    "plotKDE(kde2, X2,x_min=0,x_max=1, y_min=0, y_max=1, title='KDE pdf pour la classe 2')\n",
    "plt.show()"
   ]
  },
  {
   "cell_type": "markdown",
   "metadata": {},
   "source": [
    "## 1.b)  Classification bayésienne avec KDE\n",
    "\n",
    "Puisque le modèle KDE peut estimer une fonction de vraisemblance, il peut être utilisé dans la règle de Bayes pour estimer une distribution à postériori dans un problème de classification. On suppose ici que les probabilités à priori sont égales pour les deux classes.\n",
    "+ Complétez la fonction ci-dessous qui affiche la distribution de probabilité à postériori. Vous pourrez utiliser la fonction ```score_sample```\n",
    "+ Affichez et analysez la figure de les distributions KDE pour ```bandwidth=0.25```.\n",
    "+ Changez la bande passante de l'estimateur pour $0.1$, $0.5$ puis $1$ et comparez les distributions et fonction de décision résultantes.\n"
   ]
  },
  {
   "cell_type": "code",
   "execution_count": null,
   "metadata": {},
   "outputs": [],
   "source": [
    "# Affichage des distributions de probabilités\n",
    "def plotKDEdistribution(kde1,kde2, Xdata1, Xdata2,x_min=-1, x_max=1, y_min=-1, y_max=1, res=300\\\n",
    "             , title = 'KDE distributions de probabilités'):\n",
    "    #Create grid and multivariate KDE estimation\n",
    "    x = np.linspace(x_min,x_max,res)\n",
    "    y = np.linspace(y_min,y_max,res)\n",
    "    X, Y = np.meshgrid(x,y)\n",
    "    pos = np.empty(X.shape + (2,))\n",
    "    pos[:, :, 0] = X; pos[:, :, 1] = Y\n",
    "    \n",
    "    # Distributions de probabilités\n",
    "    #COMPLETER\n",
    "    log_dens1 = kde1.score_samples(...)\n",
    "    log_dens2 = kde2.score_samples(...)\n",
    "    p_post1 = \n",
    "    p_post2 = \n",
    "\n",
    "    \n",
    "    # Affichage 3D   \n",
    "    fig, ax = plt.subplots(figsize=(8,8))\n",
    "    ax = fig.add_subplot(projection='3d')\n",
    "    ax.plot_surface(X, Y, p_post1, cmap='Blues',linewidth=0,vmin=0,vmax=1, alpha = 0.7)\n",
    "    ax.plot_surface(X, Y, p_post2, cmap='Oranges',linewidth=0,vmin=0,vmax=1, alpha = 0.7)\n",
    "    ax.scatter(Xdata1[:,0],Xdata1[:,1], label='Classe 1')\n",
    "    ax.scatter(Xdata2[:,0],Xdata2[:,1], label='Classe 2') \n",
    "    ax.set_xlabel('X')\n",
    "    ax.set_ylabel('Y')\n",
    "    ax.set_zlabel('Z')\n",
    "    ax.legend()\n",
    "    ax.set_title(title)\n",
    "    \n",
    "# Appel de la fonction    \n",
    "plotKDEdistribution(kde1,kde2,X1,X2,x_min=0, y_min=0)"
   ]
  },
  {
   "cell_type": "code",
   "execution_count": null,
   "metadata": {},
   "outputs": [],
   "source": [
    "# plot KDE based decision function \n",
    "def plotKDEdecision(kde1,kde2, Xdata1, Xdata2,x_min=-1, x_max=1, y_min=-1, y_max=1, res=300, title = 'Frontière de décision'):\n",
    "    #Create grid and multivariate KDE estimation\n",
    "    x = np.linspace(x_min,x_max,res)\n",
    "    y = np.linspace(y_min,y_max,res)\n",
    "    X, Y = np.meshgrid(x,y)\n",
    "    pos = np.empty(X.shape + (2,))\n",
    "    pos[:, :, 0] = X; pos[:, :, 1] = Y\n",
    "    \n",
    "    #COMPLETER\n",
    "    log_dens1 = kde1.score_samples(...)\n",
    "    log_dens2 = kde2.score_samples(...)\n",
    "    p_post1 = ...\n",
    "    p_post2 = ...\n",
    "    Z=p_post1-p_post2\n",
    "    \n",
    "    #Affichage\n",
    "    fig, ax = plt.subplots(figsize=(8,8))   \n",
    "    ax.scatter(Xdata1[:,0],Xdata1[:,1],c='g', label='Classe 1')\n",
    "    ax.scatter(Xdata2[:,0],Xdata2[:,1],c='b', label='Classe 2') \n",
    "    \n",
    "    ax.contourf(X, Y, Z, levels=[-10., 0, 10.], colors = ['lightsteelblue','mintcream'], alpha=.4)\n",
    "    ax.set_xlabel('X')\n",
    "    ax.set_ylabel('Y')\n",
    "\n",
    "    ax.legend()\n",
    "    ax.set_title(title)"
   ]
  },
  {
   "cell_type": "code",
   "execution_count": null,
   "metadata": {},
   "outputs": [],
   "source": [
    "# Appel de la fonction  \n",
    "plotKDEdecision(kde1,kde2,X1,X2,x_min=0.5, y_min=0)"
   ]
  },
  {
   "cell_type": "markdown",
   "metadata": {},
   "source": [
    "### A Faire :\n",
    "\n",
    "Reprendre l'exercice avec le dataset2 et essayez d'obtenir les meilleurs résultats possibles sur ce dataset"
   ]
  },
  {
   "cell_type": "code",
   "execution_count": null,
   "metadata": {},
   "outputs": [],
   "source": []
  }
 ],
 "metadata": {
  "kernelspec": {
   "display_name": "Python 3",
   "language": "python",
   "name": "python3"
  },
  "language_info": {
   "codemirror_mode": {
    "name": "ipython",
    "version": 3
   },
   "file_extension": ".py",
   "mimetype": "text/x-python",
   "name": "python",
   "nbconvert_exporter": "python",
   "pygments_lexer": "ipython3",
   "version": "3.8.5"
  }
 },
 "nbformat": 4,
 "nbformat_minor": 1
}
