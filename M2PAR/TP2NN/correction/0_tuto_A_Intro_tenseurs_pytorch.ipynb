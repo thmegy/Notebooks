{
 "cells": [
  {
   "cell_type": "markdown",
   "metadata": {},
   "source": [
    "## Introduction aux tenseurs de Pytorch"
   ]
  },
  {
   "cell_type": "markdown",
   "metadata": {},
   "source": [
    "Un tenseur Pytorch est similaire à un tableau numpy. Le tenseur n'a rien de spécifique aux réseaux de neurones, il s'agit d'un tableau de dimension n qui peut être utilisé comme Numpy pour des calculs numériques.\n",
    "Une des spécificités de ces tenseurs est qu'ils peuvent être utilisés pour des calculs sur GPU ou CPU.\n",
    "\n",
    "Adapté de https://pytorch.org/tutorials/beginner/pytorch_with_examples.html"
   ]
  },
  {
   "cell_type": "markdown",
   "metadata": {},
   "source": [
    "### Opérations basiques sur des tenseurs Pytorch"
   ]
  },
  {
   "cell_type": "code",
   "execution_count": null,
   "metadata": {},
   "outputs": [],
   "source": [
    "import torch\n",
    "\n",
    "# Simple matrice\n",
    "m1 = torch.ones(3, 4)\n",
    "print('Matrix m1: \\n', m1)\n",
    "print(m1.shape,\"\\n\")\n",
    "\n",
    "# Accès à un élément\n",
    "m1[1,3]\n",
    "print(m1[1,3])\n",
    "\n",
    "# Matrice aléatoire\n",
    "m2 = torch.rand(3, 4) # fill 3x4 matrix with uniform random numbers in [0,1] interval\n",
    "print('Matrix m2: \\n', m2)\n",
    "print(m2.shape,\"\\n\")\n",
    "\n",
    "# Transposée d'une matrice\n",
    "print('Matrix m2^T: \\n', m2.t())\n",
    "print(m2.t().shape,\"\\n\")\n",
    "\n",
    "# Opérations entre matrices\n",
    "m3 = m1*m2      # Il ne s'agit pas d'une multiplication de matrices mais d'une multiplication terme à terme \n",
    "print('Matrix m3: \\n', m3)\n",
    "print(m3.shape,\"\\n\")\n",
    "\n",
    "# Multiplication de matrices avec torch.mm\n",
    "m4 = m1.mm(m2.t())\n",
    "print('Matrix m4: \\n', m4)\n",
    "print(m4.shape,\"\\n\")\n",
    "\n",
    "# Multiplication de matrices avec torch.matmul\n",
    "m5 = m1.matmul(m2.t())\n",
    "print('Matrix m5: \\n', m5)\n",
    "print(m5.shape,\"\\n\")\n",
    "\n",
    "# Inverse d'une matrice\n",
    "m6 = torch.rand(3, 3) # on construit une matrice carrée\n",
    "print('Matrix m6: \\n', m6)\n",
    "m7=m6.inverse()\n",
    "print('Matrix m7: \\n', m7)\n",
    "\n",
    "# Multiplication matrice-vecteur avec torch.mv\n",
    "vec = torch.tensor([1.0,2.0,3.0])\n",
    "print(torch.matmul(m5, vec))"
   ]
  },
  {
   "cell_type": "markdown",
   "metadata": {},
   "source": [
    "### Slice :"
   ]
  },
  {
   "cell_type": "code",
   "execution_count": null,
   "metadata": {},
   "outputs": [],
   "source": [
    "m2[:4]"
   ]
  },
  {
   "cell_type": "code",
   "execution_count": null,
   "metadata": {},
   "outputs": [],
   "source": [
    "m2[:,3]"
   ]
  },
  {
   "cell_type": "code",
   "execution_count": null,
   "metadata": {},
   "outputs": [],
   "source": [
    "m2[1,:]"
   ]
  },
  {
   "cell_type": "code",
   "execution_count": null,
   "metadata": {},
   "outputs": [],
   "source": [
    "m2[1:3,:]"
   ]
  },
  {
   "cell_type": "markdown",
   "metadata": {},
   "source": [
    "### Autres opérations (power, sum, clamp, ...)\n",
    "\n",
    "(Voir également : https://jhui.github.io/2018/02/09/PyTorch-Basic-operations/)"
   ]
  },
  {
   "cell_type": "code",
   "execution_count": null,
   "metadata": {},
   "outputs": [],
   "source": [
    "mat = torch.rand(3, 4)\n",
    "print(mat)\n",
    "\n",
    "# Min des éléments\n",
    "print(mat.min())\n",
    "\n",
    "# Max des éléments\n",
    "print(mat.max())\n",
    "\n",
    "# Puissance sur chaque élément\n",
    "print(mat.pow(3))\n",
    "\n",
    "# Somme des éléments\n",
    "print(mat.sum())\n",
    "\n",
    "# Tronque tous les éléments pour les mettre dans l'intervalle [ min, max ]\n",
    "print(mat.clamp(0.3,0.7))\n",
    "\n"
   ]
  },
  {
   "cell_type": "markdown",
   "metadata": {},
   "source": [
    "### Conversion vers/depuis un tableau numpy "
   ]
  },
  {
   "cell_type": "code",
   "execution_count": null,
   "metadata": {},
   "outputs": [],
   "source": [
    "import numpy as np\n",
    "\n",
    "# conversion PyTorch -> numpy\n",
    "a = torch.randn(5)\n",
    "b = a.numpy()\n",
    "\n",
    "# conversion numpy -> PyTorch\n",
    "c = torch.from_numpy(b)\n",
    "\n",
    "print(a)\n",
    "print(b)\n",
    "print(c)"
   ]
  }
 ],
 "metadata": {
  "kernelspec": {
   "display_name": "Python 3 (ipykernel)",
   "language": "python",
   "name": "python3"
  },
  "language_info": {
   "codemirror_mode": {
    "name": "ipython",
    "version": 3
   },
   "file_extension": ".py",
   "mimetype": "text/x-python",
   "name": "python",
   "nbconvert_exporter": "python",
   "pygments_lexer": "ipython3",
   "version": "3.11.6"
  }
 },
 "nbformat": 4,
 "nbformat_minor": 1
}
