{
 "cells": [
  {
   "cell_type": "code",
   "execution_count": 1,
   "metadata": {},
   "outputs": [],
   "source": [
    "import pandas as pd\n",
    "import numpy as np\n",
    "import matplotlib.pyplot as plt"
   ]
  },
  {
   "cell_type": "code",
   "execution_count": 16,
   "metadata": {},
   "outputs": [],
   "source": [
    "length = 200 #longueur découpage tronçon"
   ]
  },
  {
   "cell_type": "code",
   "execution_count": 17,
   "metadata": {},
   "outputs": [],
   "source": [
    "df_cracks = pd.read_csv(f'/home/thmegy/Téléchargements/notes_routes/import_ai4cracks_IA_comparaison_tood_{length}m.csv',\n",
    "                        sep=';')\n",
    "df_cracks['id'] = df_cracks['route']+'_'+df_cracks['plo_debut']+'_'+\\\n",
    "                df_cracks['abs_debut'].astype('str')+'_'+df_cracks['plo_fin']+'_'+\\\n",
    "                df_cracks['abs_fin'].astype('str')"
   ]
  },
  {
   "cell_type": "code",
   "execution_count": 18,
   "metadata": {
    "hideOutput": true
   },
   "outputs": [],
   "source": [
    "df_degr = pd.read_csv(f'/home/thmegy/Téléchargements/notes_routes/moy_degradation_{length}m_IA_comparaison.csv', sep=';')\n",
    "df_degr['id'] = df_degr['route']+'_'+df_degr['plo_debut']+'_'+\\\n",
    "                df_degr['abs_debut'].astype('str')+'_'+df_degr['plo_fin']+'_'+\\\n",
    "                df_degr['abs_fin'].astype('str')"
   ]
  },
  {
   "cell_type": "code",
   "execution_count": 29,
   "metadata": {},
   "outputs": [],
   "source": [
    "df_degr['Arrachement tot'] = df_degr['Arrachement peignage']+df_degr['Arrachement pelade']+df_degr['Arrachement plumage']\n",
    "df_degr['Faiencage tot'] = df_degr['Faiencage grave']+df_degr['Faiencage significatif']\n",
    "df_degr['Longitudinale tot'] = df_degr['Longitudinale grave']+df_degr['Longitudinale significatif']\n",
    "df_degr['Transversale tot'] = df_degr['Transversale grave']+df_degr['Transversale significatif']"
   ]
  },
  {
   "cell_type": "code",
   "execution_count": 19,
   "metadata": {},
   "outputs": [],
   "source": [
    "# col_degr = ['Arrachement pelade', 'Arrachement peignage', 'Arrachement plumage', 'Arrachement tot',\n",
    "#        'Autres réparations', 'Faiencage grave', 'Faiencage significatif', 'Faiencage tot',\n",
    "#        'Longitudinale grave', 'Longitudinale significatif', 'Longitudinale tot', 'Pontage',\n",
    "#        'Transversale grave', 'Transversale significatif', 'Transversale tot', 'Réparation en BB',\n",
    "#        'id']\n",
    "# col_cracks = ['Moy_Arrachement_pelade', 'Moy_Faiencage', 'Moy_Nid_de_poule',\n",
    "#         'Moy_Transversale', 'Moy_Longitudinale',\n",
    "#        'Moy_Pontage_de_fissures', 'Moy_Remblaiement_de_tranchees',\n",
    "#        'Moy_Comblage_de_trou_ou_Projection_d_enrobe',\n",
    "#         'id']\n",
    "\n",
    "col_degr = ['Arrachement', 'Autres réparations', 'Faiencage', 'Longitudinale', 'Pontage',\n",
    "            'Transversale', 'Réparation en BB', 'Nid de poule', 'id']\n",
    "col_cracks = ['Moy_Arrachement_pelade', 'Moy_Faiencage', 'Moy_Nid_de_poule',\n",
    "        'Moy_Transversale', 'Moy_Longitudinale',\n",
    "       'Moy_Pontage', 'Moy_Remblaiement',\n",
    "       'Moy_Comblage',\n",
    "        'id']\n",
    "\n",
    "df_new = pd.merge(df_degr[col_degr], df_cracks[col_cracks], on='id')"
   ]
  },
  {
   "cell_type": "code",
   "execution_count": 20,
   "metadata": {},
   "outputs": [
    {
     "data": {
      "text/html": [
       "<div>\n",
       "<style scoped>\n",
       "    .dataframe tbody tr th:only-of-type {\n",
       "        vertical-align: middle;\n",
       "    }\n",
       "\n",
       "    .dataframe tbody tr th {\n",
       "        vertical-align: top;\n",
       "    }\n",
       "\n",
       "    .dataframe thead th {\n",
       "        text-align: right;\n",
       "    }\n",
       "</style>\n",
       "<table border=\"1\" class=\"dataframe\">\n",
       "  <thead>\n",
       "    <tr style=\"text-align: right;\">\n",
       "      <th></th>\n",
       "      <th>Arrachement</th>\n",
       "      <th>Autres réparations</th>\n",
       "      <th>Faiencage</th>\n",
       "      <th>Longitudinale</th>\n",
       "      <th>Pontage</th>\n",
       "      <th>Transversale</th>\n",
       "      <th>Réparation en BB</th>\n",
       "      <th>Nid de poule</th>\n",
       "      <th>id</th>\n",
       "      <th>Moy_Arrachement_pelade</th>\n",
       "      <th>Moy_Faiencage</th>\n",
       "      <th>Moy_Nid_de_poule</th>\n",
       "      <th>Moy_Transversale</th>\n",
       "      <th>Moy_Longitudinale</th>\n",
       "      <th>Moy_Pontage</th>\n",
       "      <th>Moy_Remblaiement</th>\n",
       "      <th>Moy_Comblage</th>\n",
       "    </tr>\n",
       "  </thead>\n",
       "  <tbody>\n",
       "    <tr>\n",
       "      <th>0</th>\n",
       "      <td>0.017857</td>\n",
       "      <td>0.0</td>\n",
       "      <td>0.000000</td>\n",
       "      <td>0.0</td>\n",
       "      <td>0.0</td>\n",
       "      <td>0.0</td>\n",
       "      <td>0.0</td>\n",
       "      <td>0.0</td>\n",
       "      <td>CCBHS - C10_TRONROUT0000000008410711_0_TRONROU...</td>\n",
       "      <td>0.065868</td>\n",
       "      <td>0.000000</td>\n",
       "      <td>0.0</td>\n",
       "      <td>0.000000</td>\n",
       "      <td>0.000000</td>\n",
       "      <td>0.0</td>\n",
       "      <td>0.000000</td>\n",
       "      <td>0.0</td>\n",
       "    </tr>\n",
       "    <tr>\n",
       "      <th>1</th>\n",
       "      <td>0.123457</td>\n",
       "      <td>0.0</td>\n",
       "      <td>0.000000</td>\n",
       "      <td>0.0</td>\n",
       "      <td>0.0</td>\n",
       "      <td>0.0</td>\n",
       "      <td>0.0</td>\n",
       "      <td>0.0</td>\n",
       "      <td>CCBHS - C10_TRONROUT0000000008410712_0_TRONROU...</td>\n",
       "      <td>0.012346</td>\n",
       "      <td>0.000000</td>\n",
       "      <td>0.0</td>\n",
       "      <td>0.000000</td>\n",
       "      <td>0.000000</td>\n",
       "      <td>0.0</td>\n",
       "      <td>0.000000</td>\n",
       "      <td>0.0</td>\n",
       "    </tr>\n",
       "    <tr>\n",
       "      <th>2</th>\n",
       "      <td>0.000000</td>\n",
       "      <td>0.0</td>\n",
       "      <td>0.000000</td>\n",
       "      <td>0.0</td>\n",
       "      <td>0.0</td>\n",
       "      <td>0.0</td>\n",
       "      <td>0.0</td>\n",
       "      <td>0.0</td>\n",
       "      <td>CCBHS - C10_TRONROUT0000000008410715_0_TRONROU...</td>\n",
       "      <td>0.000000</td>\n",
       "      <td>0.000000</td>\n",
       "      <td>0.0</td>\n",
       "      <td>0.000000</td>\n",
       "      <td>0.000000</td>\n",
       "      <td>0.0</td>\n",
       "      <td>0.000000</td>\n",
       "      <td>0.0</td>\n",
       "    </tr>\n",
       "    <tr>\n",
       "      <th>3</th>\n",
       "      <td>0.034483</td>\n",
       "      <td>0.0</td>\n",
       "      <td>0.000000</td>\n",
       "      <td>0.0</td>\n",
       "      <td>0.0</td>\n",
       "      <td>0.0</td>\n",
       "      <td>0.0</td>\n",
       "      <td>0.0</td>\n",
       "      <td>CCBHS - C10_TRONROUT0000000008410720_0_TRONROU...</td>\n",
       "      <td>0.084034</td>\n",
       "      <td>0.000000</td>\n",
       "      <td>0.0</td>\n",
       "      <td>0.008403</td>\n",
       "      <td>0.000000</td>\n",
       "      <td>0.0</td>\n",
       "      <td>0.033613</td>\n",
       "      <td>0.0</td>\n",
       "    </tr>\n",
       "    <tr>\n",
       "      <th>4</th>\n",
       "      <td>0.000000</td>\n",
       "      <td>0.0</td>\n",
       "      <td>0.000000</td>\n",
       "      <td>0.0</td>\n",
       "      <td>0.0</td>\n",
       "      <td>0.0</td>\n",
       "      <td>0.0</td>\n",
       "      <td>0.0</td>\n",
       "      <td>CCBHS - C2_TRONROUT0000000008410719_0_TRONROUT...</td>\n",
       "      <td>0.125000</td>\n",
       "      <td>0.000000</td>\n",
       "      <td>0.0</td>\n",
       "      <td>0.000000</td>\n",
       "      <td>0.000000</td>\n",
       "      <td>0.0</td>\n",
       "      <td>0.000000</td>\n",
       "      <td>0.0</td>\n",
       "    </tr>\n",
       "    <tr>\n",
       "      <th>...</th>\n",
       "      <td>...</td>\n",
       "      <td>...</td>\n",
       "      <td>...</td>\n",
       "      <td>...</td>\n",
       "      <td>...</td>\n",
       "      <td>...</td>\n",
       "      <td>...</td>\n",
       "      <td>...</td>\n",
       "      <td>...</td>\n",
       "      <td>...</td>\n",
       "      <td>...</td>\n",
       "      <td>...</td>\n",
       "      <td>...</td>\n",
       "      <td>...</td>\n",
       "      <td>...</td>\n",
       "      <td>...</td>\n",
       "      <td>...</td>\n",
       "    </tr>\n",
       "    <tr>\n",
       "      <th>353</th>\n",
       "      <td>0.000000</td>\n",
       "      <td>0.0</td>\n",
       "      <td>0.074074</td>\n",
       "      <td>0.0</td>\n",
       "      <td>0.0</td>\n",
       "      <td>0.0</td>\n",
       "      <td>0.0</td>\n",
       "      <td>0.0</td>\n",
       "      <td>VANNES - R FRANCOIS-RENE DE CHATEAUBRIAND_TRON...</td>\n",
       "      <td>0.000000</td>\n",
       "      <td>0.148148</td>\n",
       "      <td>0.0</td>\n",
       "      <td>0.000000</td>\n",
       "      <td>0.296296</td>\n",
       "      <td>0.0</td>\n",
       "      <td>0.000000</td>\n",
       "      <td>0.0</td>\n",
       "    </tr>\n",
       "    <tr>\n",
       "      <th>354</th>\n",
       "      <td>0.000000</td>\n",
       "      <td>0.0</td>\n",
       "      <td>0.000000</td>\n",
       "      <td>0.0</td>\n",
       "      <td>0.0</td>\n",
       "      <td>0.0</td>\n",
       "      <td>0.0</td>\n",
       "      <td>0.0</td>\n",
       "      <td>VANNES - R MARIE LAURENCIN_TRONROUT00000003421...</td>\n",
       "      <td>0.034483</td>\n",
       "      <td>0.000000</td>\n",
       "      <td>0.0</td>\n",
       "      <td>0.344828</td>\n",
       "      <td>0.000000</td>\n",
       "      <td>0.0</td>\n",
       "      <td>0.172414</td>\n",
       "      <td>0.0</td>\n",
       "    </tr>\n",
       "    <tr>\n",
       "      <th>355</th>\n",
       "      <td>0.000000</td>\n",
       "      <td>0.0</td>\n",
       "      <td>0.000000</td>\n",
       "      <td>0.0</td>\n",
       "      <td>0.0</td>\n",
       "      <td>0.0</td>\n",
       "      <td>0.0</td>\n",
       "      <td>0.0</td>\n",
       "      <td>VANNES - R MARIE LAURENCIN_TRONROUT00000022073...</td>\n",
       "      <td>0.041667</td>\n",
       "      <td>0.000000</td>\n",
       "      <td>0.0</td>\n",
       "      <td>0.250000</td>\n",
       "      <td>0.041667</td>\n",
       "      <td>0.0</td>\n",
       "      <td>0.750000</td>\n",
       "      <td>0.0</td>\n",
       "    </tr>\n",
       "    <tr>\n",
       "      <th>356</th>\n",
       "      <td>0.000000</td>\n",
       "      <td>0.0</td>\n",
       "      <td>0.000000</td>\n",
       "      <td>0.0</td>\n",
       "      <td>0.0</td>\n",
       "      <td>0.0</td>\n",
       "      <td>0.0</td>\n",
       "      <td>0.0</td>\n",
       "      <td>VANNES - R MARIE LAURENCIN_TRONROUT00000022073...</td>\n",
       "      <td>0.200000</td>\n",
       "      <td>0.000000</td>\n",
       "      <td>0.0</td>\n",
       "      <td>0.400000</td>\n",
       "      <td>0.000000</td>\n",
       "      <td>0.0</td>\n",
       "      <td>0.000000</td>\n",
       "      <td>0.0</td>\n",
       "    </tr>\n",
       "    <tr>\n",
       "      <th>357</th>\n",
       "      <td>0.000000</td>\n",
       "      <td>0.0</td>\n",
       "      <td>0.000000</td>\n",
       "      <td>0.0</td>\n",
       "      <td>0.0</td>\n",
       "      <td>0.0</td>\n",
       "      <td>0.0</td>\n",
       "      <td>0.0</td>\n",
       "      <td>VANNES - R MARIE LAURENCIN_TRONROUT00000022073...</td>\n",
       "      <td>0.150000</td>\n",
       "      <td>0.000000</td>\n",
       "      <td>0.0</td>\n",
       "      <td>0.650000</td>\n",
       "      <td>0.000000</td>\n",
       "      <td>0.0</td>\n",
       "      <td>0.000000</td>\n",
       "      <td>0.0</td>\n",
       "    </tr>\n",
       "  </tbody>\n",
       "</table>\n",
       "<p>358 rows × 17 columns</p>\n",
       "</div>"
      ],
      "text/plain": [
       "     Arrachement  Autres réparations  Faiencage  Longitudinale  Pontage  \\\n",
       "0       0.017857                 0.0   0.000000            0.0      0.0   \n",
       "1       0.123457                 0.0   0.000000            0.0      0.0   \n",
       "2       0.000000                 0.0   0.000000            0.0      0.0   \n",
       "3       0.034483                 0.0   0.000000            0.0      0.0   \n",
       "4       0.000000                 0.0   0.000000            0.0      0.0   \n",
       "..           ...                 ...        ...            ...      ...   \n",
       "353     0.000000                 0.0   0.074074            0.0      0.0   \n",
       "354     0.000000                 0.0   0.000000            0.0      0.0   \n",
       "355     0.000000                 0.0   0.000000            0.0      0.0   \n",
       "356     0.000000                 0.0   0.000000            0.0      0.0   \n",
       "357     0.000000                 0.0   0.000000            0.0      0.0   \n",
       "\n",
       "     Transversale  Réparation en BB  Nid de poule  \\\n",
       "0             0.0               0.0           0.0   \n",
       "1             0.0               0.0           0.0   \n",
       "2             0.0               0.0           0.0   \n",
       "3             0.0               0.0           0.0   \n",
       "4             0.0               0.0           0.0   \n",
       "..            ...               ...           ...   \n",
       "353           0.0               0.0           0.0   \n",
       "354           0.0               0.0           0.0   \n",
       "355           0.0               0.0           0.0   \n",
       "356           0.0               0.0           0.0   \n",
       "357           0.0               0.0           0.0   \n",
       "\n",
       "                                                    id  \\\n",
       "0    CCBHS - C10_TRONROUT0000000008410711_0_TRONROU...   \n",
       "1    CCBHS - C10_TRONROUT0000000008410712_0_TRONROU...   \n",
       "2    CCBHS - C10_TRONROUT0000000008410715_0_TRONROU...   \n",
       "3    CCBHS - C10_TRONROUT0000000008410720_0_TRONROU...   \n",
       "4    CCBHS - C2_TRONROUT0000000008410719_0_TRONROUT...   \n",
       "..                                                 ...   \n",
       "353  VANNES - R FRANCOIS-RENE DE CHATEAUBRIAND_TRON...   \n",
       "354  VANNES - R MARIE LAURENCIN_TRONROUT00000003421...   \n",
       "355  VANNES - R MARIE LAURENCIN_TRONROUT00000022073...   \n",
       "356  VANNES - R MARIE LAURENCIN_TRONROUT00000022073...   \n",
       "357  VANNES - R MARIE LAURENCIN_TRONROUT00000022073...   \n",
       "\n",
       "     Moy_Arrachement_pelade  Moy_Faiencage  Moy_Nid_de_poule  \\\n",
       "0                  0.065868       0.000000               0.0   \n",
       "1                  0.012346       0.000000               0.0   \n",
       "2                  0.000000       0.000000               0.0   \n",
       "3                  0.084034       0.000000               0.0   \n",
       "4                  0.125000       0.000000               0.0   \n",
       "..                      ...            ...               ...   \n",
       "353                0.000000       0.148148               0.0   \n",
       "354                0.034483       0.000000               0.0   \n",
       "355                0.041667       0.000000               0.0   \n",
       "356                0.200000       0.000000               0.0   \n",
       "357                0.150000       0.000000               0.0   \n",
       "\n",
       "     Moy_Transversale  Moy_Longitudinale  Moy_Pontage  Moy_Remblaiement  \\\n",
       "0            0.000000           0.000000          0.0          0.000000   \n",
       "1            0.000000           0.000000          0.0          0.000000   \n",
       "2            0.000000           0.000000          0.0          0.000000   \n",
       "3            0.008403           0.000000          0.0          0.033613   \n",
       "4            0.000000           0.000000          0.0          0.000000   \n",
       "..                ...                ...          ...               ...   \n",
       "353          0.000000           0.296296          0.0          0.000000   \n",
       "354          0.344828           0.000000          0.0          0.172414   \n",
       "355          0.250000           0.041667          0.0          0.750000   \n",
       "356          0.400000           0.000000          0.0          0.000000   \n",
       "357          0.650000           0.000000          0.0          0.000000   \n",
       "\n",
       "     Moy_Comblage  \n",
       "0             0.0  \n",
       "1             0.0  \n",
       "2             0.0  \n",
       "3             0.0  \n",
       "4             0.0  \n",
       "..            ...  \n",
       "353           0.0  \n",
       "354           0.0  \n",
       "355           0.0  \n",
       "356           0.0  \n",
       "357           0.0  \n",
       "\n",
       "[358 rows x 17 columns]"
      ]
     },
     "execution_count": 20,
     "metadata": {},
     "output_type": "execute_result"
    }
   ],
   "source": [
    "df_new"
   ]
  },
  {
   "cell_type": "code",
   "execution_count": 21,
   "metadata": {},
   "outputs": [
    {
     "data": {
      "image/png": "[encoded data removed]",
      "text/plain": [
       "<Figure size 864x720 with 2 Axes>"
      ]
     },
     "metadata": {
      "needs_background": "light"
     },
     "output_type": "display_data"
    }
   ],
   "source": [
    "plt.figure(figsize=(12,10))\n",
    "corr = df_new.corr()\n",
    "corr_sel = corr.iloc[:8,8:] # keep only correlation between degradations from videocoding and ai4cracks\n",
    "#corr_sel = corr.iloc[:16,16:] # keep only correlation between degradations from videocoding and ai4cracks\n",
    "\n",
    "opts = {'cmap': 'RdBu_r', 'vmin': -1, 'vmax': +1}\n",
    "\n",
    "heatmap = plt.pcolor(corr_sel, **opts)\n",
    "plt.yticks(np.arange(0.5, len(corr_sel.index), 1), corr_sel.index)\n",
    "plt.xticks(np.arange(0.5, len(corr_sel.columns), 1), corr_sel.columns, rotation=45, ha='right')\n",
    "cbar = plt.colorbar(heatmap)\n",
    "plt.tight_layout()"
   ]
  },
  {
   "cell_type": "code",
   "execution_count": 22,
   "metadata": {},
   "outputs": [
    {
     "data": {
      "text/html": [
       "<div>\n",
       "<style scoped>\n",
       "    .dataframe tbody tr th:only-of-type {\n",
       "        vertical-align: middle;\n",
       "    }\n",
       "\n",
       "    .dataframe tbody tr th {\n",
       "        vertical-align: top;\n",
       "    }\n",
       "\n",
       "    .dataframe thead th {\n",
       "        text-align: right;\n",
       "    }\n",
       "</style>\n",
       "<table border=\"1\" class=\"dataframe\">\n",
       "  <thead>\n",
       "    <tr style=\"text-align: right;\">\n",
       "      <th></th>\n",
       "      <th>Moy_Arrachement_pelade</th>\n",
       "      <th>Moy_Faiencage</th>\n",
       "      <th>Moy_Nid_de_poule</th>\n",
       "      <th>Moy_Transversale</th>\n",
       "      <th>Moy_Longitudinale</th>\n",
       "      <th>Moy_Pontage</th>\n",
       "      <th>Moy_Remblaiement</th>\n",
       "      <th>Moy_Comblage</th>\n",
       "    </tr>\n",
       "  </thead>\n",
       "  <tbody>\n",
       "    <tr>\n",
       "      <th>Arrachement</th>\n",
       "      <td>0.418461</td>\n",
       "      <td>0.088575</td>\n",
       "      <td>0.234273</td>\n",
       "      <td>0.126685</td>\n",
       "      <td>-0.041328</td>\n",
       "      <td>-0.125735</td>\n",
       "      <td>-0.036845</td>\n",
       "      <td>0.167621</td>\n",
       "    </tr>\n",
       "    <tr>\n",
       "      <th>Autres réparations</th>\n",
       "      <td>-0.012492</td>\n",
       "      <td>0.010461</td>\n",
       "      <td>-0.016341</td>\n",
       "      <td>-0.047492</td>\n",
       "      <td>-0.023858</td>\n",
       "      <td>-0.041703</td>\n",
       "      <td>0.210410</td>\n",
       "      <td>0.019971</td>\n",
       "    </tr>\n",
       "    <tr>\n",
       "      <th>Faiencage</th>\n",
       "      <td>0.027416</td>\n",
       "      <td>0.753590</td>\n",
       "      <td>0.017170</td>\n",
       "      <td>0.622533</td>\n",
       "      <td>0.468856</td>\n",
       "      <td>-0.070178</td>\n",
       "      <td>0.101205</td>\n",
       "      <td>0.020178</td>\n",
       "    </tr>\n",
       "    <tr>\n",
       "      <th>Longitudinale</th>\n",
       "      <td>-0.070136</td>\n",
       "      <td>0.330053</td>\n",
       "      <td>-0.067792</td>\n",
       "      <td>0.464015</td>\n",
       "      <td>0.713754</td>\n",
       "      <td>-0.087260</td>\n",
       "      <td>0.025767</td>\n",
       "      <td>0.053261</td>\n",
       "    </tr>\n",
       "    <tr>\n",
       "      <th>Pontage</th>\n",
       "      <td>-0.122454</td>\n",
       "      <td>-0.072770</td>\n",
       "      <td>-0.048296</td>\n",
       "      <td>-0.079623</td>\n",
       "      <td>-0.015392</td>\n",
       "      <td>0.799505</td>\n",
       "      <td>-0.084859</td>\n",
       "      <td>-0.055200</td>\n",
       "    </tr>\n",
       "    <tr>\n",
       "      <th>Transversale</th>\n",
       "      <td>-0.031966</td>\n",
       "      <td>0.101877</td>\n",
       "      <td>-0.018561</td>\n",
       "      <td>0.406371</td>\n",
       "      <td>0.187419</td>\n",
       "      <td>-0.045454</td>\n",
       "      <td>0.027787</td>\n",
       "      <td>-0.022784</td>\n",
       "    </tr>\n",
       "    <tr>\n",
       "      <th>Réparation en BB</th>\n",
       "      <td>-0.005074</td>\n",
       "      <td>-0.027950</td>\n",
       "      <td>-0.008893</td>\n",
       "      <td>0.003326</td>\n",
       "      <td>0.232079</td>\n",
       "      <td>0.131617</td>\n",
       "      <td>0.160238</td>\n",
       "      <td>0.001863</td>\n",
       "    </tr>\n",
       "    <tr>\n",
       "      <th>Nid de poule</th>\n",
       "      <td>0.181585</td>\n",
       "      <td>0.075862</td>\n",
       "      <td>0.293054</td>\n",
       "      <td>-0.014626</td>\n",
       "      <td>0.043741</td>\n",
       "      <td>-0.022634</td>\n",
       "      <td>-0.020600</td>\n",
       "      <td>0.091026</td>\n",
       "    </tr>\n",
       "  </tbody>\n",
       "</table>\n",
       "</div>"
      ],
      "text/plain": [
       "                    Moy_Arrachement_pelade  Moy_Faiencage  Moy_Nid_de_poule  \\\n",
       "Arrachement                       0.418461       0.088575          0.234273   \n",
       "Autres réparations               -0.012492       0.010461         -0.016341   \n",
       "Faiencage                         0.027416       0.753590          0.017170   \n",
       "Longitudinale                    -0.070136       0.330053         -0.067792   \n",
       "Pontage                          -0.122454      -0.072770         -0.048296   \n",
       "Transversale                     -0.031966       0.101877         -0.018561   \n",
       "Réparation en BB                 -0.005074      -0.027950         -0.008893   \n",
       "Nid de poule                      0.181585       0.075862          0.293054   \n",
       "\n",
       "                    Moy_Transversale  Moy_Longitudinale  Moy_Pontage  \\\n",
       "Arrachement                 0.126685          -0.041328    -0.125735   \n",
       "Autres réparations         -0.047492          -0.023858    -0.041703   \n",
       "Faiencage                   0.622533           0.468856    -0.070178   \n",
       "Longitudinale               0.464015           0.713754    -0.087260   \n",
       "Pontage                    -0.079623          -0.015392     0.799505   \n",
       "Transversale                0.406371           0.187419    -0.045454   \n",
       "Réparation en BB            0.003326           0.232079     0.131617   \n",
       "Nid de poule               -0.014626           0.043741    -0.022634   \n",
       "\n",
       "                    Moy_Remblaiement  Moy_Comblage  \n",
       "Arrachement                -0.036845      0.167621  \n",
       "Autres réparations          0.210410      0.019971  \n",
       "Faiencage                   0.101205      0.020178  \n",
       "Longitudinale               0.025767      0.053261  \n",
       "Pontage                    -0.084859     -0.055200  \n",
       "Transversale                0.027787     -0.022784  \n",
       "Réparation en BB            0.160238      0.001863  \n",
       "Nid de poule               -0.020600      0.091026  "
      ]
     },
     "execution_count": 22,
     "metadata": {},
     "output_type": "execute_result"
    }
   ],
   "source": [
    "corr_sel"
   ]
  },
  {
   "cell_type": "code",
   "execution_count": 9,
   "metadata": {},
   "outputs": [
    {
     "data": {
      "text/plain": [
       "<matplotlib.collections.PathCollection at 0x7f134d05cf70>"
      ]
     },
     "execution_count": 9,
     "metadata": {},
     "output_type": "execute_result"
    },
    {
     "data": {
      "image/png": "[encoded data removed]",
      "text/plain": [
       "<Figure size 432x288 with 1 Axes>"
      ]
     },
     "metadata": {
      "needs_background": "light"
     },
     "output_type": "display_data"
    }
   ],
   "source": [
    "plt.scatter(df_new['Moy_Pontage'], df_new['Pontage'])"
   ]
  },
  {
   "cell_type": "code",
   "execution_count": 37,
   "metadata": {},
   "outputs": [
    {
     "ename": "KeyError",
     "evalue": "'Moy_Pontage_de_fissures'",
     "output_type": "error",
     "traceback": [
      "\u001b[0;31m---------------------------------------------------------------------------\u001b[0m",
      "\u001b[0;31mKeyError\u001b[0m                                  Traceback (most recent call last)",
      "\u001b[0;32m~/anaconda3/lib/python3.8/site-packages/pandas/core/indexes/base.py\u001b[0m in \u001b[0;36mget_loc\u001b[0;34m(self, key, method, tolerance)\u001b[0m\n\u001b[1;32m   2894\u001b[0m             \u001b[0;32mtry\u001b[0m\u001b[0;34m:\u001b[0m\u001b[0;34m\u001b[0m\u001b[0;34m\u001b[0m\u001b[0m\n\u001b[0;32m-> 2895\u001b[0;31m                 \u001b[0;32mreturn\u001b[0m \u001b[0mself\u001b[0m\u001b[0;34m.\u001b[0m\u001b[0m_engine\u001b[0m\u001b[0;34m.\u001b[0m\u001b[0mget_loc\u001b[0m\u001b[0;34m(\u001b[0m\u001b[0mcasted_key\u001b[0m\u001b[0;34m)\u001b[0m\u001b[0;34m\u001b[0m\u001b[0;34m\u001b[0m\u001b[0m\n\u001b[0m\u001b[1;32m   2896\u001b[0m             \u001b[0;32mexcept\u001b[0m \u001b[0mKeyError\u001b[0m \u001b[0;32mas\u001b[0m \u001b[0merr\u001b[0m\u001b[0;34m:\u001b[0m\u001b[0;34m\u001b[0m\u001b[0;34m\u001b[0m\u001b[0m\n",
      "\u001b[0;32mpandas/_libs/index.pyx\u001b[0m in \u001b[0;36mpandas._libs.index.IndexEngine.get_loc\u001b[0;34m()\u001b[0m\n",
      "\u001b[0;32mpandas/_libs/index.pyx\u001b[0m in \u001b[0;36mpandas._libs.index.IndexEngine.get_loc\u001b[0;34m()\u001b[0m\n",
      "\u001b[0;32mpandas/_libs/hashtable_class_helper.pxi\u001b[0m in \u001b[0;36mpandas._libs.hashtable.PyObjectHashTable.get_item\u001b[0;34m()\u001b[0m\n",
      "\u001b[0;32mpandas/_libs/hashtable_class_helper.pxi\u001b[0m in \u001b[0;36mpandas._libs.hashtable.PyObjectHashTable.get_item\u001b[0;34m()\u001b[0m\n",
      "\u001b[0;31mKeyError\u001b[0m: 'Moy_Pontage_de_fissures'",
      "\nThe above exception was the direct cause of the following exception:\n",
      "\u001b[0;31mKeyError\u001b[0m                                  Traceback (most recent call last)",
      "\u001b[0;32m<ipython-input-37-f8ff9cbfe904>\u001b[0m in \u001b[0;36m<module>\u001b[0;34m\u001b[0m\n\u001b[1;32m      1\u001b[0m \u001b[0mplt\u001b[0m\u001b[0;34m.\u001b[0m\u001b[0mfigure\u001b[0m\u001b[0;34m(\u001b[0m\u001b[0mfigsize\u001b[0m\u001b[0;34m=\u001b[0m\u001b[0;34m(\u001b[0m\u001b[0;36m12\u001b[0m\u001b[0;34m,\u001b[0m\u001b[0;36m8\u001b[0m\u001b[0;34m)\u001b[0m\u001b[0;34m)\u001b[0m\u001b[0;34m\u001b[0m\u001b[0;34m\u001b[0m\u001b[0m\n\u001b[0;32m----> 2\u001b[0;31m \u001b[0mmatrix\u001b[0m\u001b[0;34m,\u001b[0m \u001b[0mbins_x\u001b[0m\u001b[0;34m,\u001b[0m \u001b[0mbins_y\u001b[0m \u001b[0;34m=\u001b[0m \u001b[0mnp\u001b[0m\u001b[0;34m.\u001b[0m\u001b[0mhistogram2d\u001b[0m\u001b[0;34m(\u001b[0m\u001b[0mdf_new\u001b[0m\u001b[0;34m[\u001b[0m\u001b[0;34m'Pontage'\u001b[0m\u001b[0;34m]\u001b[0m\u001b[0;34m,\u001b[0m \u001b[0mdf_new\u001b[0m\u001b[0;34m[\u001b[0m\u001b[0;34m'Moy_Pontage_de_fissures'\u001b[0m\u001b[0;34m]\u001b[0m\u001b[0;34m,\u001b[0m \u001b[0mbins\u001b[0m\u001b[0;34m=\u001b[0m\u001b[0;34m(\u001b[0m\u001b[0;36m5\u001b[0m\u001b[0;34m,\u001b[0m\u001b[0;36m5\u001b[0m\u001b[0;34m)\u001b[0m\u001b[0;34m)\u001b[0m\u001b[0;34m\u001b[0m\u001b[0;34m\u001b[0m\u001b[0m\n\u001b[0m\u001b[1;32m      3\u001b[0m \u001b[0;34m\u001b[0m\u001b[0m\n\u001b[1;32m      4\u001b[0m \u001b[0;31m#    matrix = matrix / matrix.sum(axis=0)\u001b[0m\u001b[0;34m\u001b[0m\u001b[0;34m\u001b[0m\u001b[0;34m\u001b[0m\u001b[0m\n\u001b[1;32m      5\u001b[0m \u001b[0;31m#    print(matrix.T)\u001b[0m\u001b[0;34m\u001b[0m\u001b[0;34m\u001b[0m\u001b[0;34m\u001b[0m\u001b[0m\n",
      "\u001b[0;32m~/anaconda3/lib/python3.8/site-packages/pandas/core/frame.py\u001b[0m in \u001b[0;36m__getitem__\u001b[0;34m(self, key)\u001b[0m\n\u001b[1;32m   2900\u001b[0m             \u001b[0;32mif\u001b[0m \u001b[0mself\u001b[0m\u001b[0;34m.\u001b[0m\u001b[0mcolumns\u001b[0m\u001b[0;34m.\u001b[0m\u001b[0mnlevels\u001b[0m \u001b[0;34m>\u001b[0m \u001b[0;36m1\u001b[0m\u001b[0;34m:\u001b[0m\u001b[0;34m\u001b[0m\u001b[0;34m\u001b[0m\u001b[0m\n\u001b[1;32m   2901\u001b[0m                 \u001b[0;32mreturn\u001b[0m \u001b[0mself\u001b[0m\u001b[0;34m.\u001b[0m\u001b[0m_getitem_multilevel\u001b[0m\u001b[0;34m(\u001b[0m\u001b[0mkey\u001b[0m\u001b[0;34m)\u001b[0m\u001b[0;34m\u001b[0m\u001b[0;34m\u001b[0m\u001b[0m\n\u001b[0;32m-> 2902\u001b[0;31m             \u001b[0mindexer\u001b[0m \u001b[0;34m=\u001b[0m \u001b[0mself\u001b[0m\u001b[0;34m.\u001b[0m\u001b[0mcolumns\u001b[0m\u001b[0;34m.\u001b[0m\u001b[0mget_loc\u001b[0m\u001b[0;34m(\u001b[0m\u001b[0mkey\u001b[0m\u001b[0;34m)\u001b[0m\u001b[0;34m\u001b[0m\u001b[0;34m\u001b[0m\u001b[0m\n\u001b[0m\u001b[1;32m   2903\u001b[0m             \u001b[0;32mif\u001b[0m \u001b[0mis_integer\u001b[0m\u001b[0;34m(\u001b[0m\u001b[0mindexer\u001b[0m\u001b[0;34m)\u001b[0m\u001b[0;34m:\u001b[0m\u001b[0;34m\u001b[0m\u001b[0;34m\u001b[0m\u001b[0m\n\u001b[1;32m   2904\u001b[0m                 \u001b[0mindexer\u001b[0m \u001b[0;34m=\u001b[0m \u001b[0;34m[\u001b[0m\u001b[0mindexer\u001b[0m\u001b[0;34m]\u001b[0m\u001b[0;34m\u001b[0m\u001b[0;34m\u001b[0m\u001b[0m\n",
      "\u001b[0;32m~/anaconda3/lib/python3.8/site-packages/pandas/core/indexes/base.py\u001b[0m in \u001b[0;36mget_loc\u001b[0;34m(self, key, method, tolerance)\u001b[0m\n\u001b[1;32m   2895\u001b[0m                 \u001b[0;32mreturn\u001b[0m \u001b[0mself\u001b[0m\u001b[0;34m.\u001b[0m\u001b[0m_engine\u001b[0m\u001b[0;34m.\u001b[0m\u001b[0mget_loc\u001b[0m\u001b[0;34m(\u001b[0m\u001b[0mcasted_key\u001b[0m\u001b[0;34m)\u001b[0m\u001b[0;34m\u001b[0m\u001b[0;34m\u001b[0m\u001b[0m\n\u001b[1;32m   2896\u001b[0m             \u001b[0;32mexcept\u001b[0m \u001b[0mKeyError\u001b[0m \u001b[0;32mas\u001b[0m \u001b[0merr\u001b[0m\u001b[0;34m:\u001b[0m\u001b[0;34m\u001b[0m\u001b[0;34m\u001b[0m\u001b[0m\n\u001b[0;32m-> 2897\u001b[0;31m                 \u001b[0;32mraise\u001b[0m \u001b[0mKeyError\u001b[0m\u001b[0;34m(\u001b[0m\u001b[0mkey\u001b[0m\u001b[0;34m)\u001b[0m \u001b[0;32mfrom\u001b[0m \u001b[0merr\u001b[0m\u001b[0;34m\u001b[0m\u001b[0;34m\u001b[0m\u001b[0m\n\u001b[0m\u001b[1;32m   2898\u001b[0m \u001b[0;34m\u001b[0m\u001b[0m\n\u001b[1;32m   2899\u001b[0m         \u001b[0;32mif\u001b[0m \u001b[0mtolerance\u001b[0m \u001b[0;32mis\u001b[0m \u001b[0;32mnot\u001b[0m \u001b[0;32mNone\u001b[0m\u001b[0;34m:\u001b[0m\u001b[0;34m\u001b[0m\u001b[0;34m\u001b[0m\u001b[0m\n",
      "\u001b[0;31mKeyError\u001b[0m: 'Moy_Pontage_de_fissures'"
     ]
    },
    {
     "data": {
      "text/plain": [
       "<Figure size 864x576 with 0 Axes>"
      ]
     },
     "metadata": {},
     "output_type": "display_data"
    }
   ],
   "source": [
    "    plt.figure(figsize=(12,8))\n",
    "    matrix, bins_x, bins_y = np.histogram2d(df_new['Pontage'], df_new['Moy_Pontage_de_fissures'], bins=(5,5))\n",
    "\n",
    "#    matrix = matrix / matrix.sum(axis=0)\n",
    "#    print(matrix.T)\n",
    "    plt.pcolor(matrix.T, cmap='Greens')\n",
    "    plt.xticks(ticks=range(len(bins_x)), labels=bins_x)\n",
    "    plt.yticks(ticks=range(len(bins_y)), labels=bins_y)\n",
    "    plt.colorbar()\n",
    "    plt.show()"
   ]
  },
  {
   "cell_type": "code",
   "execution_count": 111,
   "metadata": {},
   "outputs": [
    {
     "data": {
      "text/plain": [
       "array([[2.61167e+05, 2.51000e+02, 7.40000e+01, 6.30000e+01, 1.39300e+03],\n",
       "       [4.49000e+02, 2.80000e+01, 1.10000e+01, 1.50000e+01, 1.99000e+02],\n",
       "       [4.41400e+03, 2.35000e+02, 1.20000e+02, 1.30000e+02, 4.25900e+03],\n",
       "       [1.30500e+03, 1.46000e+02, 7.50000e+01, 1.31000e+02, 2.65500e+03],\n",
       "       [2.63000e+02, 3.00000e+01, 1.70000e+01, 3.00000e+01, 1.34400e+03]])"
      ]
     },
     "execution_count": 111,
     "metadata": {},
     "output_type": "execute_result"
    }
   ],
   "source": [
    "matrix"
   ]
  },
  {
   "cell_type": "code",
   "execution_count": 112,
   "metadata": {},
   "outputs": [
    {
     "data": {
      "text/plain": [
       "array([267598.,    690.,    297.,    369.,   9850.])"
      ]
     },
     "execution_count": 112,
     "metadata": {},
     "output_type": "execute_result"
    }
   ],
   "source": [
    "matrix.sum(axis=0)"
   ]
  },
  {
   "cell_type": "code",
   "execution_count": 113,
   "metadata": {},
   "outputs": [
    {
     "data": {
      "text/plain": [
       "array([262948.,    702.,   9158.,   4312.,   1684.])"
      ]
     },
     "execution_count": 113,
     "metadata": {},
     "output_type": "execute_result"
    }
   ],
   "source": [
    "matrix.sum(axis=1)"
   ]
  },
  {
   "cell_type": "code",
   "execution_count": 107,
   "metadata": {},
   "outputs": [
    {
     "data": {
      "text/plain": [
       "array([[2.61167e+05, 4.49000e+02, 4.41400e+03, 1.30500e+03, 2.63000e+02],\n",
       "       [2.51000e+02, 2.80000e+01, 2.35000e+02, 1.46000e+02, 3.00000e+01],\n",
       "       [7.40000e+01, 1.10000e+01, 1.20000e+02, 7.50000e+01, 1.70000e+01],\n",
       "       [6.30000e+01, 1.50000e+01, 1.30000e+02, 1.31000e+02, 3.00000e+01],\n",
       "       [1.39300e+03, 1.99000e+02, 4.25900e+03, 2.65500e+03, 1.34400e+03]])"
      ]
     },
     "execution_count": 107,
     "metadata": {},
     "output_type": "execute_result"
    }
   ],
   "source": [
    "matrix"
   ]
  },
  {
   "cell_type": "code",
   "execution_count": 108,
   "metadata": {},
   "outputs": [
    {
     "data": {
      "text/plain": [
       "array([262948.,    702.,   9158.,   4312.,   1684.])"
      ]
     },
     "execution_count": 108,
     "metadata": {},
     "output_type": "execute_result"
    }
   ],
   "source": [
    "matrix.sum(axis=0)"
   ]
  },
  {
   "cell_type": "code",
   "execution_count": 109,
   "metadata": {},
   "outputs": [
    {
     "data": {
      "text/plain": [
       "array([267598.,    690.,    297.,    369.,   9850.])"
      ]
     },
     "execution_count": 109,
     "metadata": {},
     "output_type": "execute_result"
    }
   ],
   "source": [
    "matrix.sum(axis=1)"
   ]
  },
  {
   "cell_type": "code",
   "execution_count": 35,
   "metadata": {},
   "outputs": [
    {
     "data": {
      "text/plain": [
       "22"
      ]
     },
     "execution_count": 35,
     "metadata": {},
     "output_type": "execute_result"
    }
   ],
   "source": [
    "sel = \n",
    "(df_new[df_new['Faiencage grave'] > 0]['Moy_Faiencage']==0).sum()"
   ]
  }
 ],
 "metadata": {
  "kernelspec": {
   "display_name": "Python 3",
   "language": "python",
   "name": "python3"
  },
  "language_info": {
   "codemirror_mode": {
    "name": "ipython",
    "version": 3
   },
   "file_extension": ".py",
   "mimetype": "text/x-python",
   "name": "python",
   "nbconvert_exporter": "python",
   "pygments_lexer": "ipython3",
   "version": "3.8.5"
  }
 },
 "nbformat": 4,
 "nbformat_minor": 4
}
